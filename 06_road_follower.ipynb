{
 "cells": [
  {
   "cell_type": "code",
   "execution_count": 5,
   "id": "palestinian-exhibition",
   "metadata": {},
   "outputs": [],
   "source": [
    "import time\n",
    "import threading\n",
    "\n",
    "import torch\n",
    "import torchvision\n",
    "from inputs import get_gamepad\n",
    "from jetracer.nvidia_racecar import NvidiaRacecar\n",
    "from torch2trt import TRTModule"
   ]
  },
  {
   "cell_type": "code",
   "execution_count": 2,
   "id": "binding-despite",
   "metadata": {},
   "outputs": [],
   "source": [
    "#import torch\n",
    "#import torchvision.transforms as transforms\n",
    "#import torch.nn.functional as F\n",
    "#mport cv2\n",
    "#import numpy as np\n",
    "\n",
    "\n",
    "#def preprocess(image):\n",
    "#    device = torch.device('cuda')\n",
    "#    image = PIL.Image.fromarray(image)\n",
    "#    image = transforms.functional.to_tensor(image).to(device)\n",
    "#    image.sub_(mean[:, None, None]).div_(std[:, None, None])\n",
    "#    return image[None, ...]"
   ]
  },
  {
   "cell_type": "code",
   "execution_count": 4,
   "id": "incomplete-sport",
   "metadata": {},
   "outputs": [],
   "source": [
    "mean = torch.Tensor([0.485, 0.456, 0.406]).cuda() # R, G, B\n",
    "std = torch.Tensor([0.229, 0.224, 0.225]).cuda()"
   ]
  },
  {
   "cell_type": "markdown",
   "id": "interim-copyright",
   "metadata": {},
   "source": [
    "# Read pretrained model"
   ]
  },
  {
   "cell_type": "code",
   "execution_count": 6,
   "id": "military-antique",
   "metadata": {},
   "outputs": [
    {
     "data": {
      "text/plain": [
       "<All keys matched successfully>"
      ]
     },
     "execution_count": 6,
     "metadata": {},
     "output_type": "execute_result"
    }
   ],
   "source": [
    "model_trt = TRTModule()\n",
    "model_trt.load_state_dict(torch.load('models/road_following_model_trt.pth'))"
   ]
  },
  {
   "cell_type": "code",
   "execution_count": null,
   "id": "super-estonia",
   "metadata": {},
   "outputs": [],
   "source": [
    "car = NvidiaRacecar()"
   ]
  }
 ],
 "metadata": {
  "kernelspec": {
   "display_name": "Python 3",
   "language": "python",
   "name": "python3"
  },
  "language_info": {
   "codemirror_mode": {
    "name": "ipython",
    "version": 3
   },
   "file_extension": ".py",
   "mimetype": "text/x-python",
   "name": "python",
   "nbconvert_exporter": "python",
   "pygments_lexer": "ipython3",
   "version": "3.6.9"
  }
 },
 "nbformat": 4,
 "nbformat_minor": 5
}
