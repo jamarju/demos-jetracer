{
 "cells": [
  {
   "cell_type": "code",
   "execution_count": null,
   "metadata": {
    "tags": []
   },
   "outputs": [],
   "source": [
    "%reload_ext autoreload\n",
    "%autoreload 2"
   ]
  },
  {
   "cell_type": "markdown",
   "metadata": {},
   "source": [
    "### Camera"
   ]
  },
  {
   "cell_type": "code",
   "execution_count": null,
   "metadata": {},
   "outputs": [],
   "source": [
    "from datetime import datetime\n",
    "from pathlib import Path\n",
    "\n",
    "from inputs import get_gamepad\n",
    "from IPython.display import display\n",
    "from jetcam.csi_camera import CSICamera\n",
    "from jetcam.utils import bgr8_to_jpeg\n",
    "from jetracer.nvidia_racecar import NvidiaRacecar\n",
    "import ipywidgets\n",
    "import requests"
   ]
  },
  {
   "cell_type": "code",
   "execution_count": null,
   "metadata": {},
   "outputs": [],
   "source": [
    "OUT_P = Path('train_dataset') # directorio de destino de las fotos (se creará)\n",
    "FPS   = 1 # frames por segundo\n",
    "SIZE  = 224"
   ]
  },
  {
   "cell_type": "code",
   "execution_count": null,
   "metadata": {},
   "outputs": [],
   "source": [
    "moving = False"
   ]
  },
  {
   "cell_type": "code",
   "execution_count": null,
   "metadata": {},
   "outputs": [],
   "source": [
    "def update_display():\n",
    "    info = '\\n'.join([\n",
    "        f\"th_gain: {car.throttle_gain:.2f}\",\n",
    "        f\"st_offs: {car.steering_offset:.2f}\",\n",
    "    ])\n",
    "    requests.get(\"http://localhost:8000/text/\" + info)"
   ]
  },
  {
   "cell_type": "code",
   "execution_count": null,
   "metadata": {},
   "outputs": [],
   "source": [
    "def reset_display():\n",
    "    requests.get(\"http://localhost:8000/stats/on\")"
   ]
  },
  {
   "cell_type": "code",
   "execution_count": null,
   "metadata": {},
   "outputs": [],
   "source": [
    "def get_timestamp():\n",
    "    return datetime.utcnow().strftime('%Y%m%d_%H%M%S_%f')"
   ]
  },
  {
   "cell_type": "code",
   "execution_count": null,
   "metadata": {},
   "outputs": [],
   "source": [
    "def update_image(change):\n",
    "    image = change['new']\n",
    "    jpg = bgr8_to_jpeg(image)\n",
    "    image_widget.value = jpg\n",
    "    if car.throttle > 0.1 or car.throttle < -0.1:\n",
    "        jpg_p = OUT_P / (get_timestamp() + \".jpg\")\n",
    "        with jpg_p.open('wb') as f:\n",
    "            f.write(jpg)\n",
    "        print(f\"Th={car.throttle} - saving {jpg_p.name}.jpg\")"
   ]
  },
  {
   "cell_type": "code",
   "execution_count": null,
   "metadata": {},
   "outputs": [],
   "source": [
    "car = NvidiaRacecar()"
   ]
  },
  {
   "cell_type": "code",
   "execution_count": null,
   "metadata": {},
   "outputs": [],
   "source": [
    "car.steering = 0\n",
    "car.steering_offset = 0\n",
    "car.throttle_gain = 0.20"
   ]
  },
  {
   "cell_type": "code",
   "execution_count": null,
   "metadata": {},
   "outputs": [],
   "source": [
    "OUT_P.mkdir(exist_ok=True)"
   ]
  },
  {
   "cell_type": "code",
   "execution_count": null,
   "metadata": {},
   "outputs": [],
   "source": [
    "camera = CSICamera(width=SIZE, height=SIZE, capture_fps=FPS)\n",
    "camera.running = True"
   ]
  },
  {
   "cell_type": "code",
   "execution_count": null,
   "metadata": {},
   "outputs": [],
   "source": [
    "image_widget = ipywidgets.Image(format='jpeg')"
   ]
  },
  {
   "cell_type": "code",
   "execution_count": null,
   "metadata": {},
   "outputs": [],
   "source": [
    "camera.observe(update_image, names='value')"
   ]
  },
  {
   "cell_type": "code",
   "execution_count": null,
   "metadata": {},
   "outputs": [],
   "source": [
    "display(image_widget)"
   ]
  },
  {
   "cell_type": "code",
   "execution_count": null,
   "metadata": {},
   "outputs": [],
   "source": [
    "right_trigger = left_trigger = 0\n",
    "\n",
    "while not (right_trigger and left_trigger):\n",
    "    events = get_gamepad()\n",
    "    for event in events:\n",
    "        if event.ev_type == 'Absolute':\n",
    "            if event.code == 'ABS_Y':\n",
    "                car.throttle = -(event.state - 127.5) / 127.5\n",
    "                #print(f'Y={event.state}')\n",
    "            if event.code == 'ABS_Z':\n",
    "                car.steering = (event.state - 127.5) / 127.5\n",
    "                #print(f'Z={event.state}')\n",
    "        elif event.ev_type == 'Key' and event.code == 'BTN_TR2':\n",
    "            right_trigger = event.state\n",
    "        elif event.ev_type == 'Key' and event.code == 'BTN_TL2':\n",
    "            left_trigger = event.state\n",
    "        elif event.ev_type == 'Key' and event.state == 1:\n",
    "            if event.code == 'BTN_WEST': # Y / UP\n",
    "                car.throttle_gain = min(1.0, car.throttle_gain + 0.05)\n",
    "                update_display()\n",
    "            if event.code == 'BTN_SOUTH': # A / DOWN\n",
    "                car.throttle_gain = max(0.0, car.throttle_gain - 0.05)\n",
    "                update_display()\n",
    "            if event.code == 'BTN_EAST': # B / RIGHT\n",
    "                car.steering_offset = max(-0.3, car.steering_offset - 0.05)\n",
    "                car.steering = 0.1\n",
    "                car.steering = 0\n",
    "                update_display()\n",
    "            if event.code == 'BTN_NORTH': # X / LEFT\n",
    "                car.steering_offset = min(0.3, car.steering_offset + 0.05)\n",
    "                car.steering = 0.1\n",
    "                car.steering = 0\n",
    "                update_display()\n",
    "\n",
    "            #print(f\"throttle_gain={car.throttle_gain:.1f}\")\n",
    "        #print(event.ev_type, event.code, event.state)\n",
    "\n",
    "car.throttle = 0\n",
    "reset_display()"
   ]
  },
  {
   "cell_type": "code",
   "execution_count": null,
   "metadata": {},
   "outputs": [],
   "source": [
    "camera.unobserve(update_image, names='value')"
   ]
  },
  {
   "cell_type": "code",
   "execution_count": null,
   "metadata": {},
   "outputs": [],
   "source": [
    "camera.running = False"
   ]
  },
  {
   "cell_type": "code",
   "execution_count": null,
   "metadata": {},
   "outputs": [],
   "source": []
  }
 ],
 "metadata": {
  "kernelspec": {
   "display_name": "Python 3",
   "language": "python",
   "name": "python3"
  },
  "language_info": {
   "codemirror_mode": {
    "name": "ipython",
    "version": 3
   },
   "file_extension": ".py",
   "mimetype": "text/x-python",
   "name": "python",
   "nbconvert_exporter": "python",
   "pygments_lexer": "ipython3",
   "version": "3.6.9"
  }
 },
 "nbformat": 4,
 "nbformat_minor": 4
}
