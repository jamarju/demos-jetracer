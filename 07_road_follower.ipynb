{
 "cells": [
  {
   "cell_type": "markdown",
   "id": "dramatic-tactics",
   "metadata": {},
   "source": [
    "# TODO\n",
    "- Benchmark con .train() / .eval()\n",
    "- Benchmark con with torch.no_grad() / sin\n",
    "- BGR -> RGB (y el entrenamiento igual)\n",
    "- Evento \"DESCONEXIÓN\" del mando?"
   ]
  },
  {
   "cell_type": "code",
   "execution_count": null,
   "id": "rocky-dealing",
   "metadata": {},
   "outputs": [],
   "source": [
    "from datetime import datetime\n",
    "import time\n",
    "import threading\n",
    "\n",
    "import cv2\n",
    "import ipywidgets\n",
    "import numpy as np\n",
    "import requests\n",
    "import torch\n",
    "import torchvision\n",
    "from inputs import get_gamepad\n",
    "from IPython.display import display\n",
    "from jetcam.csi_camera import CSICamera\n",
    "from jetcam.utils import bgr8_to_jpeg\n",
    "from jetracer.nvidia_racecar import NvidiaRacecar\n",
    "from matplotlib import pyplot as plt\n",
    "from torch2trt import TRTModule"
   ]
  },
  {
   "cell_type": "markdown",
   "id": "radical-woman",
   "metadata": {},
   "source": [
    "# Constants"
   ]
  },
  {
   "cell_type": "code",
   "execution_count": null,
   "id": "compressed-lease",
   "metadata": {},
   "outputs": [],
   "source": [
    "CAP_WIDTH = 640 #960\n",
    "CAP_HEIGHT = 480 #540\n",
    "SZ = 224\n",
    "FPS = 15\n",
    "THROTTLE_GAIN = 0.15\n",
    "STEERING_OFFSET = +0.15\n",
    "STEERING_GAIN = -0.55\n",
    "PREVIEW = False"
   ]
  },
  {
   "cell_type": "code",
   "execution_count": null,
   "id": "proprietary-membrane",
   "metadata": {},
   "outputs": [],
   "source": [
    "mean = torch.Tensor([0.485, 0.456, 0.406]).cuda() # R, G, B\n",
    "std = torch.Tensor([0.229, 0.224, 0.225]).cuda()"
   ]
  },
  {
   "cell_type": "markdown",
   "id": "parental-newton",
   "metadata": {},
   "source": [
    "# Read pretrained model"
   ]
  },
  {
   "cell_type": "code",
   "execution_count": null,
   "id": "widespread-poultry",
   "metadata": {},
   "outputs": [],
   "source": [
    "model_trt = TRTModule()\n",
    "model_trt.load_state_dict(torch.load('models/road_following_model_trt.pth'))"
   ]
  },
  {
   "cell_type": "code",
   "execution_count": null,
   "id": "moving-shepherd",
   "metadata": {},
   "outputs": [],
   "source": [
    "model_trt.eval()"
   ]
  },
  {
   "cell_type": "markdown",
   "id": "available-rachel",
   "metadata": {},
   "source": [
    "# Create RaceCar object"
   ]
  },
  {
   "cell_type": "code",
   "execution_count": null,
   "id": "unnecessary-recipe",
   "metadata": {},
   "outputs": [],
   "source": [
    "car = NvidiaRacecar()"
   ]
  },
  {
   "cell_type": "markdown",
   "id": "operational-continuity",
   "metadata": {},
   "source": [
    "# Create camera object"
   ]
  },
  {
   "cell_type": "markdown",
   "id": "consolidated-place",
   "metadata": {},
   "source": [
    "Si sale el siguiente error:\n",
    "\n",
    "```\n",
    "RuntimeError: Could not read image from camera.\n",
    "```\n",
    "\n",
    "Abrir un terminal desde File -> New -> Terminal, ejecutar:\n",
    "\n",
    "```\n",
    "sudo systemctl restart nvargus-daemon\n",
    "```\n",
    "\n",
    "Después, Kernel -> Restart kernel"
   ]
  },
  {
   "cell_type": "code",
   "execution_count": null,
   "id": "suffering-smart",
   "metadata": {},
   "outputs": [],
   "source": [
    "#camera = CSICamera(width=SZ, height=SZ, capture_fps=30) # fps=65\n",
    "camera = CSICamera(\n",
    "    capture_width=CAP_WIDTH, \n",
    "    capture_height=CAP_HEIGHT,\n",
    "    width=CAP_WIDTH, \n",
    "    height=CAP_HEIGHT, \n",
    "    capture_fps=FPS) # fps=65"
   ]
  },
  {
   "cell_type": "code",
   "execution_count": null,
   "id": "champion-mount",
   "metadata": {},
   "outputs": [],
   "source": [
    "#image = camera.read()"
   ]
  },
  {
   "cell_type": "code",
   "execution_count": null,
   "id": "nominated-professional",
   "metadata": {},
   "outputs": [],
   "source": [
    "#plt.imshow(image)"
   ]
  },
  {
   "cell_type": "code",
   "execution_count": null,
   "id": "efficient-circle",
   "metadata": {},
   "outputs": [],
   "source": [
    "#plt.imshow(image)"
   ]
  },
  {
   "cell_type": "markdown",
   "id": "subject-percentage",
   "metadata": {},
   "source": [
    "# Display functions"
   ]
  },
  {
   "cell_type": "code",
   "execution_count": null,
   "id": "athletic-collection",
   "metadata": {},
   "outputs": [],
   "source": [
    "def update_display():\n",
    "    global manual_drive, video_out\n",
    "    info = '\\n'.join([\n",
    "        f\"th_gain: {car.throttle_gain:.2f}\",\n",
    "        f\"st_offs: {car.steering_offset:.2f}\",\n",
    "        f\"{'RECORDING VIDEO' if video_out is not None else ''}\",\n",
    "        f\"{'MANUAL' if manual_drive else 'AI'} drive\",\n",
    "    ])\n",
    "    requests.get(\"http://localhost:8000/text/\" + info)\n",
    "\n",
    "def reset_display():\n",
    "    requests.get(\"http://localhost:8000/stats/on\")"
   ]
  },
  {
   "cell_type": "markdown",
   "id": "photographic-decrease",
   "metadata": {},
   "source": [
    "# Video recording functions"
   ]
  },
  {
   "cell_type": "code",
   "execution_count": null,
   "id": "absent-species",
   "metadata": {},
   "outputs": [],
   "source": [
    "def open_mov():\n",
    "    global video_out\n",
    "    fn = datetime.utcnow().strftime('%Y%m%d_%H%M%S_%f') + '.mov'\n",
    "    gst_out = f\"appsrc ! video/x-raw, format=BGR ! queue ! videoconvert ! video/x-raw,format=RGBA ! nvvidconv ! nvv4l2h264enc ! h264parse ! qtmux ! filesink location={fn} \" # trailing space is REQUIRED\n",
    "    video_out = cv2.VideoWriter(gst_out, cv2.CAP_GSTREAMER, 0, float(FPS), (CAP_WIDTH, CAP_HEIGHT))\n",
    "    if not video_out.isOpened():\n",
    "        print(\"Failed to open output\")\n",
    "    #print(\"open_mov\")\n",
    "\n",
    "def close_mov():\n",
    "    global video_out\n",
    "    video_out.release()\n",
    "    video_out = None\n",
    "    #print(\"close_mov\")"
   ]
  },
  {
   "cell_type": "markdown",
   "id": "fantastic-leader",
   "metadata": {},
   "source": [
    "# Driving (AI / manual) thread"
   ]
  },
  {
   "cell_type": "code",
   "execution_count": null,
   "id": "dress-payment",
   "metadata": {},
   "outputs": [],
   "source": [
    "preview_widget = ipywidgets.Image(width=CAP_WIDTH, height=CAP_HEIGHT)\n",
    "\n",
    "if PREVIEW:\n",
    "    display(preview_widget)"
   ]
  },
  {
   "cell_type": "code",
   "execution_count": null,
   "id": "ethical-polls",
   "metadata": {},
   "outputs": [],
   "source": [
    "def get_road_center(image):\n",
    "    h, w = image.shape[:2]\n",
    "    image = cv2.resize(image, (SZ, SZ))\n",
    "\n",
    "    # Convert uint8 array to float tensor, div by 255, permute dimensions HWC to CHW\n",
    "    t = torchvision.transforms.functional.to_tensor(image) # uint8 -> float, [0,255] -> [0,1], 3, SZ, SZ\n",
    "    \n",
    "    # Move to GPU\n",
    "    t = t.cuda()\n",
    "    \n",
    "    # Normalize with imagenet stats since we're using an imagenet pretrained model\n",
    "    t = (t - mean[:,None,None]) / std[:,None,None]\n",
    "    \n",
    "    # Add batch dimension\n",
    "    t = t[None, ...] # 1, 3, SZ, SZ\n",
    "    \n",
    "    # float -> float16 for faster inference\n",
    "    t = t.half()\n",
    "\n",
    "    # Get center of road\n",
    "    o = model_trt(t)\n",
    "\n",
    "    # Clamp to [-1, 1]\n",
    "    o = torch.clamp(o, min=-1, max=1)\n",
    "\n",
    "    # Remove batch dimension\n",
    "    o = o.flatten()\n",
    "    \n",
    "    # Move to CPU\n",
    "    o = o.cpu()\n",
    "    \n",
    "    # Get x, y values between -1, 1\n",
    "    nx, ny = o.tolist()\n",
    "\n",
    "    # Map to image x and y\n",
    "    ix = int((nx + 1) / 2 * (w - 1))\n",
    "    iy = int((ny + 1) / 2 * (h - 1))\n",
    "\n",
    "    return nx, ny, ix, iy"
   ]
  },
  {
   "cell_type": "code",
   "execution_count": null,
   "id": "finite-answer",
   "metadata": {},
   "outputs": [],
   "source": [
    "#%%timeit\n",
    "if False:\n",
    "    image = camera.read()\n",
    "\n",
    "    # Get center of road\n",
    "    x, y, ix, iy = get_road_center(image)\n",
    "\n",
    "    # Draw circle and preview\n",
    "    cv2.circle(image, (ix, iy), 8, (0, 255, 0), 2)\n",
    "\n",
    "    jpg = bgr8_to_jpeg(image)\n",
    "    preview_widget.value = jpg"
   ]
  },
  {
   "cell_type": "code",
   "execution_count": null,
   "id": "familiar-pencil",
   "metadata": {},
   "outputs": [],
   "source": [
    "def update_image(change):\n",
    "    # New image is a numpy array with shape (SZ, SZ, 3), dtype uint8\n",
    "    image = change['new']\n",
    "\n",
    "    # Get center of road\n",
    "    x, y, ix, iy = get_road_center(image)\n",
    "\n",
    "    # AI drive\n",
    "    if not manual_drive:\n",
    "        car.steering = x\n",
    "    \n",
    "    # Draw circle\n",
    "    cv2.circle(image, (ix, iy), 8, (0, 255, 0), 2)\n",
    "    \n",
    "    if PREVIEW:\n",
    "        jpg = bgr8_to_jpeg(image)\n",
    "        preview_widget.value = jpg\n",
    "    \n",
    "    if video_out is not None:\n",
    "        #print(\"Write frame\")\n",
    "        video_out.write(image)\n",
    "        "
   ]
  },
  {
   "cell_type": "markdown",
   "id": "advised-learning",
   "metadata": {},
   "source": [
    "# Driving loop"
   ]
  },
  {
   "cell_type": "code",
   "execution_count": null,
   "id": "alone-dominant",
   "metadata": {},
   "outputs": [],
   "source": [
    "right_trigger = left_trigger = 0\n",
    "car.throttle = 0.0\n",
    "car.throttle_gain = THROTTLE_GAIN\n",
    "car.steering_offset = STEERING_OFFSET\n",
    "car.steering_gain = STEERING_GAIN\n",
    "manual_drive = True\n",
    "video_out = None"
   ]
  },
  {
   "cell_type": "code",
   "execution_count": null,
   "id": "isolated-architect",
   "metadata": {},
   "outputs": [],
   "source": [
    "camera.observe(update_image, names='value')"
   ]
  },
  {
   "cell_type": "code",
   "execution_count": null,
   "id": "mexican-degree",
   "metadata": {},
   "outputs": [],
   "source": [
    "camera.running = True"
   ]
  },
  {
   "cell_type": "code",
   "execution_count": null,
   "id": "rubber-giving",
   "metadata": {},
   "outputs": [],
   "source": [
    "while not (right_trigger and left_trigger):\n",
    "    events = get_gamepad()\n",
    "    for event in events:\n",
    "        if event.ev_type == 'Absolute' and manual_drive:\n",
    "            if event.code == 'ABS_Y':\n",
    "                car.throttle = -(event.state - 127.5) / 127.5\n",
    "                #print(f'Y={event.state}')\n",
    "            if event.code == 'ABS_Z':\n",
    "                car.steering = (event.state - 127.5) / 127.5\n",
    "                #print(f'Z={event.state}')\n",
    "        elif event.ev_type == 'Key' and event.code == 'BTN_TR2':\n",
    "            right_trigger = event.state\n",
    "        elif event.ev_type == 'Key' and event.code == 'BTN_TL2':\n",
    "            left_trigger = event.state\n",
    "        elif event.ev_type == 'Key' and event.state == 1:\n",
    "            if event.code == 'BTN_WEST': # Y / UP\n",
    "                car.throttle_gain = min(1.0, car.throttle_gain + 0.05)\n",
    "                update_display()\n",
    "            if event.code == 'BTN_SOUTH': # A / DOWN\n",
    "                car.throttle_gain = max(0.0, car.throttle_gain - 0.05)\n",
    "                update_display()\n",
    "            if event.code == 'BTN_EAST': # B / RIGHT\n",
    "                car.steering_offset = max(-0.3, car.steering_offset - 0.05)\n",
    "                car.steering = 0.1\n",
    "                car.steering = 0\n",
    "                update_display()\n",
    "            if event.code == 'BTN_NORTH': # X / LEFT\n",
    "                car.steering_offset = min(0.3, car.steering_offset + 0.05)\n",
    "                car.steering = 0.1\n",
    "                car.steering = 0\n",
    "                update_display()\n",
    "            if event.code == 'BTN_START' and event.state == 1:\n",
    "                #print(\"AI mode\")\n",
    "                manual_drive = False\n",
    "                car.throttle = 1.\n",
    "                update_display()\n",
    "            if event.code == 'BTN_SELECT' and event.state == 1:\n",
    "                #print(\"Manual mode\")\n",
    "                manual_drive = True\n",
    "                car.throttle = 0.\n",
    "                update_display()\n",
    "            if event.code == 'BTN_TL':\n",
    "                if video_out is None:\n",
    "                    open_mov()\n",
    "                else:\n",
    "                    close_mov()\n",
    "                update_display()\n",
    "\n",
    "\n",
    "        #else:\n",
    "            #print(event.ev_type, event.code, event.state)\n",
    "   \n",
    "            #print(f\"throttle_gain={car.throttle_gain:.1f}\")\n",
    "        #print(event.ev_type, event.code, event.state)\n",
    "        \n",
    "manual_drive = True\n",
    "camera.running = False\n",
    "camera.unobserve_all()\n",
    "car.throttle = 0\n",
    "\n",
    "reset_display()"
   ]
  },
  {
   "cell_type": "code",
   "execution_count": null,
   "id": "fixed-diary",
   "metadata": {},
   "outputs": [],
   "source": []
  }
 ],
 "metadata": {
  "kernelspec": {
   "display_name": "Python 3",
   "language": "python",
   "name": "python3"
  },
  "language_info": {
   "codemirror_mode": {
    "name": "ipython",
    "version": 3
   },
   "file_extension": ".py",
   "mimetype": "text/x-python",
   "name": "python",
   "nbconvert_exporter": "python",
   "pygments_lexer": "ipython3",
   "version": "3.6.9"
  }
 },
 "nbformat": 4,
 "nbformat_minor": 5
}
