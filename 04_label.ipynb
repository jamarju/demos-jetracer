{
 "cells": [
  {
   "cell_type": "code",
   "execution_count": null,
   "id": "antique-repository",
   "metadata": {},
   "outputs": [],
   "source": [
    "from pathlib import Path\n",
    "\n",
    "import cv2\n",
    "import ipywidgets\n",
    "import pandas as pd\n",
    "import traitlets\n",
    "from IPython.display import display\n",
    "from jetcam.utils import bgr8_to_jpeg\n",
    "from jupyter_clickable_image_widget import ClickableImageWidget"
   ]
  },
  {
   "cell_type": "code",
   "execution_count": null,
   "id": "recognized-scholarship",
   "metadata": {},
   "outputs": [],
   "source": [
    "SZ            = 224                   # tamaño de las imágenes a etiquetar\n",
    "IN_P          = Path('valid_dataset') # directorio de fotos a etiquetar\n",
    "HELPER_LINE_Y = 0.33                  # posición Y de la línea de ayuda (de 0 a 1)"
   ]
  },
  {
   "cell_type": "code",
   "execution_count": null,
   "id": "union-channel",
   "metadata": {},
   "outputs": [],
   "source": [
    "files_l = sorted(list(IN_P.glob('*.jpg')))"
   ]
  },
  {
   "cell_type": "code",
   "execution_count": null,
   "id": "other-protein",
   "metadata": {},
   "outputs": [],
   "source": [
    "label_widget = ipywidgets.Label()\n",
    "style = {'description_width': 'initial'}\n",
    "idx_widget = ipywidgets.BoundedIntText(\n",
    "    description=f'Index [0 .. {len(files_l)-1}]', \n",
    "    min=0, \n",
    "    max=len(files_l)-1, \n",
    "    style=style)\n",
    "prev_widget = ipywidgets.Button(description='<-')\n",
    "next_widget = ipywidgets.Button(description='->')\n",
    "save_widget = ipywidgets.Button(description='Save .csv')\n",
    "image_widget = ClickableImageWidget(width=SZ, height=SZ)\n",
    "snapshot_widget = ipywidgets.Image(width=SZ, height=SZ)"
   ]
  },
  {
   "cell_type": "code",
   "execution_count": null,
   "id": "persistent-percentage",
   "metadata": {},
   "outputs": [],
   "source": [
    "def load_image():\n",
    "    global image\n",
    "    idx = idx_widget.value\n",
    "    image = cv2.imread(str(files_l[idx]), cv2.IMREAD_COLOR)\n",
    "    cv2.line(image, (0, int(SZ * HELPER_LINE_Y)), (SZ, int(SZ * HELPER_LINE_Y)), (255, 255, 0), 1)\n",
    "    if files_l[idx].name in data:\n",
    "        x = data[files_l[idx].name]['x']\n",
    "        y = data[files_l[idx].name]['y']\n",
    "        cv2.circle(image, (x, y), 8, (0, 255, 255), 2)\n",
    "    image_widget.value = bgr8_to_jpeg(image)\n",
    "    label_widget.value = str(files_l[idx])\n",
    "\n",
    "def on_click_next(obj):\n",
    "    idx_widget.value += 1\n",
    "\n",
    "def on_click_prev(obj):\n",
    "    idx_widget.value -= 1\n",
    "        \n",
    "def on_idx_change(change):\n",
    "    load_image()\n",
    "    \n",
    "def save_snapshot(_, content, msg):\n",
    "    idx = idx_widget.value\n",
    "    if content['event'] == 'click':\n",
    "        e = content['eventData']\n",
    "        x = e['offsetX']\n",
    "        y = e['offsetY']\n",
    "        data[files_l[idx].name] = { 'x': x, 'y': y }\n",
    "        \n",
    "        # display saved snapshot\n",
    "        snapshot = cv2.circle(image, (x, y), 8, (0, 255, 0), 2)\n",
    "        snapshot_widget.value = bgr8_to_jpeg(snapshot)\n",
    "        \n",
    "        idx_widget.value += 1\n",
    "\n",
    "def on_click_save(obj):\n",
    "    pd.DataFrame.from_dict(data, 'index').rename_axis('filename').to_csv(IN_P / 'labels.csv')\n",
    "        \n",
    "image_widget.on_msg(save_snapshot)\n",
    "prev_widget.on_click(on_click_prev)\n",
    "next_widget.on_click(on_click_next)\n",
    "save_widget.on_click(on_click_save)\n",
    "idx_widget.observe(on_idx_change, names='value')\n"
   ]
  },
  {
   "cell_type": "code",
   "execution_count": null,
   "id": "compatible-retreat",
   "metadata": {},
   "outputs": [],
   "source": [
    "if (IN_P / 'labels.csv').exists():\n",
    "    data = pd.read_csv(IN_P / 'labels.csv').set_index('filename').to_dict('index')\n",
    "else:\n",
    "    data = {}"
   ]
  },
  {
   "cell_type": "code",
   "execution_count": null,
   "id": "wrapped-treat",
   "metadata": {},
   "outputs": [],
   "source": [
    "idx_widget.value = 0\n",
    "load_image()"
   ]
  },
  {
   "cell_type": "code",
   "execution_count": null,
   "id": "racial-kinase",
   "metadata": {},
   "outputs": [],
   "source": [
    "data_collection_widget = ipywidgets.VBox([\n",
    "    label_widget,\n",
    "    ipywidgets.HBox([image_widget, snapshot_widget]),\n",
    "    idx_widget,\n",
    "    ipywidgets.HBox([\n",
    "        prev_widget,\n",
    "        next_widget\n",
    "    ]),\n",
    "    save_widget\n",
    "])"
   ]
  },
  {
   "cell_type": "code",
   "execution_count": null,
   "id": "czech-geometry",
   "metadata": {},
   "outputs": [],
   "source": [
    "display(data_collection_widget)"
   ]
  },
  {
   "cell_type": "code",
   "execution_count": null,
   "id": "pretty-concert",
   "metadata": {},
   "outputs": [],
   "source": []
  }
 ],
 "metadata": {
  "kernelspec": {
   "display_name": "Python 3",
   "language": "python",
   "name": "python3"
  },
  "language_info": {
   "codemirror_mode": {
    "name": "ipython",
    "version": 3
   },
   "file_extension": ".py",
   "mimetype": "text/x-python",
   "name": "python",
   "nbconvert_exporter": "python",
   "pygments_lexer": "ipython3",
   "version": "3.6.9"
  }
 },
 "nbformat": 4,
 "nbformat_minor": 5
}
