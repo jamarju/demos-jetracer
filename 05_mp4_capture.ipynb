{
 "cells": [
  {
   "cell_type": "code",
   "execution_count": null,
   "id": "alpine-collect",
   "metadata": {},
   "outputs": [],
   "source": [
    "import time\n",
    "import threading\n",
    "\n",
    "import cv2\n",
    "import ipywidgets\n",
    "import numpy as np\n",
    "from IPython.display import display\n",
    "from jetcam.csi_camera import CSICamera\n",
    "from jetcam.utils import bgr8_to_jpeg\n",
    "from matplotlib import pyplot as plt"
   ]
  },
  {
   "cell_type": "code",
   "execution_count": null,
   "id": "personalized-chance",
   "metadata": {},
   "outputs": [],
   "source": [
    "CAP_WIDTH = 960\n",
    "CAP_HEIGHT = 540\n",
    "SZ = 224\n",
    "FPS = 30"
   ]
  },
  {
   "cell_type": "markdown",
   "id": "native-testing",
   "metadata": {},
   "source": [
    "# Create camera object"
   ]
  },
  {
   "cell_type": "code",
   "execution_count": null,
   "id": "raised-healing",
   "metadata": {},
   "outputs": [],
   "source": [
    "#camera = CSICamera(width=SZ, height=SZ, capture_fps=30) # fps=65\n",
    "camera = CSICamera(\n",
    "    capture_width=CAP_WIDTH, \n",
    "    capture_height=CAP_HEIGHT,\n",
    "    width=CAP_WIDTH, \n",
    "    height=CAP_HEIGHT, \n",
    "    capture_fps=FPS) # fps=65"
   ]
  },
  {
   "cell_type": "code",
   "execution_count": null,
   "id": "labeled-morrison",
   "metadata": {},
   "outputs": [],
   "source": [
    "image = camera.read()"
   ]
  },
  {
   "cell_type": "code",
   "execution_count": null,
   "id": "finished-retail",
   "metadata": {},
   "outputs": [],
   "source": [
    "plt.imshow(image[:,:,::-1])"
   ]
  },
  {
   "cell_type": "code",
   "execution_count": null,
   "id": "worthy-institute",
   "metadata": {},
   "outputs": [],
   "source": [
    "# https://forums.developer.nvidia.com/t/cv2-videowriter-gstreamer-opencv-using-hardware-encoder-with-python-code/125760/3?u=mjj\n",
    "gst_out = \"appsrc ! video/x-raw, format=BGR ! queue ! videoconvert ! video/x-raw,format=RGBA ! nvvidconv ! nvv4l2h264enc ! h264parse ! qtmux ! filesink location=test.mov \"\n",
    "\n",
    "out = cv2.VideoWriter(gst_out, cv2.CAP_GSTREAMER, 0, float(FPS), (CAP_WIDTH, CAP_HEIGHT))\n",
    "if not out.isOpened():\n",
    "    print(\"Failed to open output\")\n"
   ]
  },
  {
   "cell_type": "code",
   "execution_count": null,
   "id": "conservative-times",
   "metadata": {},
   "outputs": [],
   "source": [
    "for _ in range(300):\n",
    "    image = camera.read()\n",
    "    out.write(image)"
   ]
  },
  {
   "cell_type": "code",
   "execution_count": null,
   "id": "swiss-mobile",
   "metadata": {},
   "outputs": [],
   "source": [
    "out.release()"
   ]
  },
  {
   "cell_type": "code",
   "execution_count": null,
   "id": "third-services",
   "metadata": {},
   "outputs": [],
   "source": [
    "video_widget = ipywidgets.Video.from_file('test.mov')\n",
    "video_widget"
   ]
  },
  {
   "cell_type": "code",
   "execution_count": null,
   "id": "loose-stationery",
   "metadata": {},
   "outputs": [],
   "source": []
  }
 ],
 "metadata": {
  "kernelspec": {
   "display_name": "Python 3",
   "language": "python",
   "name": "python3"
  },
  "language_info": {
   "codemirror_mode": {
    "name": "ipython",
    "version": 3
   },
   "file_extension": ".py",
   "mimetype": "text/x-python",
   "name": "python",
   "nbconvert_exporter": "python",
   "pygments_lexer": "ipython3",
   "version": "3.6.9"
  }
 },
 "nbformat": 4,
 "nbformat_minor": 5
}
