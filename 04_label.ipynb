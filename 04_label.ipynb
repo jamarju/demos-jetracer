{
 "cells": [
  {
   "cell_type": "code",
   "execution_count": 1,
   "id": "least-anger",
   "metadata": {},
   "outputs": [],
   "source": [
    "from pathlib import Path\n",
    "\n",
    "import cv2\n",
    "import ipywidgets\n",
    "import pandas as pd\n",
    "import traitlets\n",
    "from IPython.display import display\n",
    "from jetcam.utils import bgr8_to_jpeg\n",
    "from jupyter_clickable_image_widget import ClickableImageWidget"
   ]
  },
  {
   "cell_type": "code",
   "execution_count": 2,
   "id": "better-class",
   "metadata": {},
   "outputs": [],
   "source": [
    "SZ            = 224                   # tamaño de las imágenes a etiquetar\n",
    "IN_P          = Path('train_dataset') # directorio de fotos a etiquetar\n",
    "HELPER_LINE_Y = 0.33                  # posición Y de la línea de ayuda (de 0 a 1)"
   ]
  },
  {
   "cell_type": "code",
   "execution_count": 3,
   "id": "wired-jacket",
   "metadata": {},
   "outputs": [],
   "source": [
    "files_l = list(IN_P.glob('*.jpg'))"
   ]
  },
  {
   "cell_type": "code",
   "execution_count": 4,
   "id": "anticipated-samba",
   "metadata": {},
   "outputs": [],
   "source": [
    "label_widget = ipywidgets.Label()\n",
    "style = {'description_width': 'initial'}\n",
    "idx_widget = ipywidgets.BoundedIntText(\n",
    "    description=f'Index [0 .. {len(files_l)-1}]', \n",
    "    min=0, \n",
    "    max=len(files_l)-1, \n",
    "    style=style)\n",
    "prev_widget = ipywidgets.Button(description='<-')\n",
    "next_widget = ipywidgets.Button(description='->')\n",
    "save_widget = ipywidgets.Button(description='Save .csv')\n",
    "image_widget = ClickableImageWidget(width=SZ, height=SZ)\n",
    "snapshot_widget = ipywidgets.Image(width=SZ, height=SZ)"
   ]
  },
  {
   "cell_type": "code",
   "execution_count": 5,
   "id": "successful-pitch",
   "metadata": {},
   "outputs": [],
   "source": [
    "def load_image():\n",
    "    global image\n",
    "    idx = idx_widget.value\n",
    "    image = cv2.imread(str(files_l[idx]), cv2.IMREAD_COLOR)\n",
    "    cv2.line(image, (0, int(SZ * HELPER_LINE_Y)), (SZ, int(SZ * HELPER_LINE_Y)), (255, 255, 0), 1)\n",
    "    if files_l[idx].name in data:\n",
    "        x = data[files_l[idx].name]['x']\n",
    "        y = data[files_l[idx].name]['y']\n",
    "        cv2.circle(image, (x, y), 8, (0, 255, 255), 2)\n",
    "    image_widget.value = bgr8_to_jpeg(image)\n",
    "    label_widget.value = str(files_l[idx])\n",
    "\n",
    "def on_click_next(obj):\n",
    "    idx_widget.value += 1\n",
    "\n",
    "def on_click_prev(obj):\n",
    "    idx_widget.value -= 1\n",
    "        \n",
    "def on_idx_change(change):\n",
    "    load_image()\n",
    "    \n",
    "def save_snapshot(_, content, msg):\n",
    "    idx = idx_widget.value\n",
    "    if content['event'] == 'click':\n",
    "        e = content['eventData']\n",
    "        x = e['offsetX']\n",
    "        y = e['offsetY']\n",
    "        data[files_l[idx].name] = { 'x': x, 'y': y }\n",
    "        \n",
    "        # display saved snapshot\n",
    "        snapshot = cv2.circle(image, (x, y), 8, (0, 255, 0), 2)\n",
    "        snapshot_widget.value = bgr8_to_jpeg(snapshot)\n",
    "        \n",
    "        idx_widget.value += 1\n",
    "\n",
    "def on_click_save(obj):\n",
    "    pd.DataFrame.from_dict(data, 'index').rename_axis('filename').to_csv(IN_P / 'labels.csv')\n",
    "        \n",
    "image_widget.on_msg(save_snapshot)\n",
    "prev_widget.on_click(on_click_prev)\n",
    "next_widget.on_click(on_click_next)\n",
    "save_widget.on_click(on_click_save)\n",
    "idx_widget.observe(on_idx_change, names='value')\n"
   ]
  },
  {
   "cell_type": "code",
   "execution_count": 6,
   "id": "sharing-reducing",
   "metadata": {},
   "outputs": [],
   "source": [
    "if (IN_P / 'labels.csv').exists():\n",
    "    data = pd.read_csv(IN_P / 'labels.csv').set_index('filename').to_dict('index')\n",
    "else:\n",
    "    data = {}"
   ]
  },
  {
   "cell_type": "code",
   "execution_count": 7,
   "id": "focused-momentum",
   "metadata": {},
   "outputs": [],
   "source": [
    "idx_widget.value = 0\n",
    "load_image()"
   ]
  },
  {
   "cell_type": "code",
   "execution_count": 8,
   "id": "returning-spring",
   "metadata": {},
   "outputs": [],
   "source": [
    "data_collection_widget = ipywidgets.VBox([\n",
    "    label_widget,\n",
    "    ipywidgets.HBox([image_widget, snapshot_widget]),\n",
    "    idx_widget,\n",
    "    ipywidgets.HBox([\n",
    "        prev_widget,\n",
    "        next_widget\n",
    "    ], width='500px'),\n",
    "    save_widget\n",
    "], width='80%')"
   ]
  },
  {
   "cell_type": "code",
   "execution_count": 9,
   "id": "recovered-affiliation",
   "metadata": {},
   "outputs": [
    {
     "data": {
      "application/vnd.jupyter.widget-view+json": {
       "model_id": "0131ee2b68214ee9b0bed08348b3353a",
       "version_major": 2,
       "version_minor": 0
      },
      "text/plain": [
       "VBox(children=(Label(value='train_dataset/20211102_155713_445644.jpg'), HBox(children=(ClickableImageWidget(va…"
      ]
     },
     "metadata": {},
     "output_type": "display_data"
    }
   ],
   "source": [
    "display(data_collection_widget)"
   ]
  },
  {
   "cell_type": "code",
   "execution_count": null,
   "id": "representative-rover",
   "metadata": {},
   "outputs": [],
   "source": []
  }
 ],
 "metadata": {
  "kernelspec": {
   "display_name": "Python 3",
   "language": "python",
   "name": "python3"
  },
  "language_info": {
   "codemirror_mode": {
    "name": "ipython",
    "version": 3
   },
   "file_extension": ".py",
   "mimetype": "text/x-python",
   "name": "python",
   "nbconvert_exporter": "python",
   "pygments_lexer": "ipython3",
   "version": "3.6.9"
  }
 },
 "nbformat": 4,
 "nbformat_minor": 5
}
