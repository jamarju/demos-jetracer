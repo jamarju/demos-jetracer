{
 "cells": [
  {
   "cell_type": "code",
   "execution_count": 1,
   "id": "strange-incident",
   "metadata": {},
   "outputs": [],
   "source": [
    "import time\n",
    "import threading\n",
    "\n",
    "import ipywidgets\n",
    "import torch\n",
    "import torchvision\n",
    "from inputs import get_gamepad\n",
    "from IPython.display import display\n",
    "from jetcam.csi_camera import CSICamera\n",
    "from jetcam.utils import bgr8_to_jpeg\n",
    "from jetracer.nvidia_racecar import NvidiaRacecar\n",
    "from torch2trt import TRTModule"
   ]
  },
  {
   "cell_type": "code",
   "execution_count": 2,
   "id": "interstate-intellectual",
   "metadata": {},
   "outputs": [],
   "source": [
    "#import torch\n",
    "#import torchvision.transforms as transforms\n",
    "#import torch.nn.functional as F\n",
    "#mport cv2\n",
    "#import numpy as np\n",
    "\n",
    "\n",
    "#def preprocess(image):\n",
    "#    device = torch.device('cuda')\n",
    "#    image = PIL.Image.fromarray(image)\n",
    "#    image = transforms.functional.to_tensor(image).to(device)\n",
    "#    image.sub_(mean[:, None, None]).div_(std[:, None, None])\n",
    "#    return image[None, ...]"
   ]
  },
  {
   "cell_type": "code",
   "execution_count": 3,
   "id": "continental-offer",
   "metadata": {},
   "outputs": [],
   "source": [
    "SZ = 224"
   ]
  },
  {
   "cell_type": "code",
   "execution_count": 4,
   "id": "drawn-chain",
   "metadata": {},
   "outputs": [],
   "source": [
    "mean = torch.Tensor([0.485, 0.456, 0.406]).cuda() # R, G, B\n",
    "std = torch.Tensor([0.229, 0.224, 0.225]).cuda()"
   ]
  },
  {
   "cell_type": "markdown",
   "id": "spread-korean",
   "metadata": {},
   "source": [
    "# Read pretrained model"
   ]
  },
  {
   "cell_type": "code",
   "execution_count": 5,
   "id": "chicken-michigan",
   "metadata": {},
   "outputs": [
    {
     "data": {
      "text/plain": [
       "<All keys matched successfully>"
      ]
     },
     "execution_count": 5,
     "metadata": {},
     "output_type": "execute_result"
    }
   ],
   "source": [
    "model_trt = TRTModule()\n",
    "model_trt.load_state_dict(torch.load('models/road_following_model_trt.pth'))"
   ]
  },
  {
   "cell_type": "markdown",
   "id": "electrical-storm",
   "metadata": {},
   "source": [
    "# Create RaceCar object"
   ]
  },
  {
   "cell_type": "code",
   "execution_count": 6,
   "id": "respective-volume",
   "metadata": {},
   "outputs": [],
   "source": [
    "car = NvidiaRacecar()"
   ]
  },
  {
   "cell_type": "markdown",
   "id": "coupled-rebecca",
   "metadata": {},
   "source": [
    "# Create camera object"
   ]
  },
  {
   "cell_type": "code",
   "execution_count": 7,
   "id": "turkish-current",
   "metadata": {},
   "outputs": [],
   "source": [
    "camera = CSICamera(width=224, height=224, capture_fps=30) # fps=65"
   ]
  },
  {
   "cell_type": "markdown",
   "id": "encouraging-theme",
   "metadata": {},
   "source": [
    "# Driving (AI / manual) thread"
   ]
  },
  {
   "cell_type": "code",
   "execution_count": 8,
   "id": "perceived-mississippi",
   "metadata": {},
   "outputs": [
    {
     "data": {
      "application/vnd.jupyter.widget-view+json": {
       "model_id": "1083f075707e449891a71ccc60389e04",
       "version_major": 2,
       "version_minor": 0
      },
      "text/plain": [
       "Image(value=b'', height='224', width='224')"
      ]
     },
     "metadata": {},
     "output_type": "display_data"
    }
   ],
   "source": [
    "preview_widget = ipywidgets.Image(width=SZ, height=SZ)\n",
    "display(preview_widget)"
   ]
  },
  {
   "cell_type": "code",
   "execution_count": 9,
   "id": "abroad-stage",
   "metadata": {},
   "outputs": [
    {
     "ename": "SyntaxError",
     "evalue": "invalid syntax (<ipython-input-9-05b6af2bdbc4>, line 11)",
     "output_type": "error",
     "traceback": [
      "\u001b[0;36m  File \u001b[0;32m\"<ipython-input-9-05b6af2bdbc4>\"\u001b[0;36m, line \u001b[0;32m11\u001b[0m\n\u001b[0;31m    o = torch.clamp(model_trt(t), min=-1, max=1).\u001b[0m\n\u001b[0m                                                 ^\u001b[0m\n\u001b[0;31mSyntaxError\u001b[0m\u001b[0;31m:\u001b[0m invalid syntax\n"
     ]
    }
   ],
   "source": [
    "def update_image(change):\n",
    "    # New image is a numpy array with shape (SZ, SZ, 3), dtype uint8\n",
    "    image = change['new']\n",
    "    \n",
    "    # Convert to tensor and normalize\n",
    "    t = torchvision.transforms.functional.to_tensor(image).cuda() # TODO: BGR -> RGB!!!\n",
    "    t.sub_(mean[:, None, None]).div_(std[:, None, None])\n",
    "    \n",
    "    # Get center of road\n",
    "    o = model_trt(t)\n",
    "    o = torch.clamp(model_trt(t), min=-1, max=1).\n",
    "    o = (o * 127.5) + 127.5\n",
    "    o = cpu().list()\n",
    "    \n",
    "    # Draw circle and preview\n",
    "    cv2.circle(image, (x, y), 8, (0, 255, 0), 2)\n",
    "\n",
    "    jpg = bgr8_to_jpeg(image)\n",
    "    preview_widget.value = jpg\n",
    "\n"
   ]
  },
  {
   "cell_type": "code",
   "execution_count": null,
   "id": "successful-barcelona",
   "metadata": {},
   "outputs": [],
   "source": [
    "camera.observe(update_image, names='value')"
   ]
  },
  {
   "cell_type": "code",
   "execution_count": null,
   "id": "beneficial-houston",
   "metadata": {},
   "outputs": [],
   "source": [
    "camera.running = False"
   ]
  },
  {
   "cell_type": "code",
   "execution_count": null,
   "id": "sexual-mixer",
   "metadata": {},
   "outputs": [],
   "source": [
    "def drive():\n",
    "    while not done:\n",
    "        if manual_drive:\n",
    "            car.throttle = manual_throttle\n",
    "            car.steering = manual_steering\n",
    "        else:\n",
    "            image = camera.read()\n",
    "            image = preprocess(image).half()\n",
    "            output = model_trt(image).detach().cpu().numpy().flatten()\n",
    "            x = float(output[0])\n",
    "            #print(output)\n",
    "            car.steering = x #* STEERING_GAIN + STEERING_BIAS\n",
    "        time.sleep(0)"
   ]
  },
  {
   "cell_type": "code",
   "execution_count": null,
   "id": "incorporate-range",
   "metadata": {},
   "outputs": [],
   "source": [
    "image = camera.read()\n",
    "preview_widget.value = bgr8_to_jpeg(image)\n",
    "\n"
   ]
  },
  {
   "cell_type": "code",
   "execution_count": null,
   "id": "amateur-commitment",
   "metadata": {},
   "outputs": [],
   "source": [
    "image[-1,-1]"
   ]
  },
  {
   "cell_type": "code",
   "execution_count": null,
   "id": "substantial-serve",
   "metadata": {},
   "outputs": [],
   "source": [
    "from matplotlib import pyplot as plt"
   ]
  },
  {
   "cell_type": "code",
   "execution_count": null,
   "id": "chubby-british",
   "metadata": {},
   "outputs": [],
   "source": [
    "plt.imshow(image)"
   ]
  },
  {
   "cell_type": "code",
   "execution_count": null,
   "id": "above-pastor",
   "metadata": {},
   "outputs": [],
   "source": [
    "image.shape"
   ]
  },
  {
   "cell_type": "code",
   "execution_count": null,
   "id": "numerous-professor",
   "metadata": {},
   "outputs": [],
   "source": [
    "import PIL"
   ]
  },
  {
   "cell_type": "code",
   "execution_count": null,
   "id": "located-superior",
   "metadata": {},
   "outputs": [],
   "source": [
    "i1 = PIL.Image.fromarray(image)"
   ]
  },
  {
   "cell_type": "code",
   "execution_count": null,
   "id": "adequate-defendant",
   "metadata": {},
   "outputs": [],
   "source": [
    "#    image.sub_(mean[:, None, None]).div_(std[:, None, None])\n",
    "\n"
   ]
  },
  {
   "cell_type": "code",
   "execution_count": null,
   "id": "distinct-chemistry",
   "metadata": {},
   "outputs": [],
   "source": [
    "i1.shape"
   ]
  },
  {
   "cell_type": "code",
   "execution_count": null,
   "id": "honey-river",
   "metadata": {},
   "outputs": [],
   "source": [
    "i1.dtype"
   ]
  },
  {
   "cell_type": "code",
   "execution_count": null,
   "id": "utility-consideration",
   "metadata": {},
   "outputs": [],
   "source": [
    "i1[:,-1,-1]"
   ]
  },
  {
   "cell_type": "code",
   "execution_count": null,
   "id": "differential-tissue",
   "metadata": {},
   "outputs": [],
   "source": [
    "i1"
   ]
  },
  {
   "cell_type": "code",
   "execution_count": null,
   "id": "indie-dodge",
   "metadata": {},
   "outputs": [],
   "source": [
    "i1 = torch.rand(3)"
   ]
  },
  {
   "cell_type": "code",
   "execution_count": null,
   "id": "still-jaguar",
   "metadata": {},
   "outputs": [],
   "source": [
    "i1.tolist()"
   ]
  },
  {
   "cell_type": "code",
   "execution_count": null,
   "id": "polished-london",
   "metadata": {},
   "outputs": [],
   "source": []
  }
 ],
 "metadata": {
  "kernelspec": {
   "display_name": "Python 3",
   "language": "python",
   "name": "python3"
  },
  "language_info": {
   "codemirror_mode": {
    "name": "ipython",
    "version": 3
   },
   "file_extension": ".py",
   "mimetype": "text/x-python",
   "name": "python",
   "nbconvert_exporter": "python",
   "pygments_lexer": "ipython3",
   "version": "3.6.9"
  }
 },
 "nbformat": 4,
 "nbformat_minor": 5
}
